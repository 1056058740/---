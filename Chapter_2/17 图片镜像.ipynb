{
 "cells": [
  {
   "cell_type": "code",
   "execution_count": null,
   "metadata": {},
   "outputs": [],
   "source": [
    "'''\n",
    "Learning notes for \"Learning Computer Vision\"\n",
    "Created by Xiaoxiao\n",
    "2019.8.21\n",
    "'''\n",
    "import cv2\n",
    "import numpy as np\n",
    "img = cv2.imread(\"1.jpg\",1)\n",
    "imgInfo = img.shape\n",
    "height = imgInfo[0]\n",
    "width = imgInfo[1]\n",
    "deep = imgInfo[2]\n",
    "newImgInfo = (height*2,width,deep)\n",
    "dst = np.zeros(newImgInfo,np.uint8)\n",
    "for i in range(0,height):\n",
    "    for j in range(0,width):\n",
    "        dst[i,j] = img[i,j]\n",
    "        #镜像部分纵坐标 = 2 * hight - y -1\n",
    "        dst[2*height-i-1,j] = img[i,j]\n",
    "#中间添加分割线\n",
    "for i in range(0,width):\n",
    "    dst[height,i] = [0,0,255]\n",
    "    # BGR 红色\n",
    "cv2.imshow('dst',dst)\n",
    "cv2.namedWindow('dst',0)\n",
    "cv2.resizeWindow(\"dst\", 640, 480)\n",
    "cv2.waitKey(0)"
   ]
  }
 ],
 "metadata": {
  "kernelspec": {
   "display_name": "Python 3",
   "language": "python",
   "name": "python3"
  },
  "language_info": {
   "codemirror_mode": {
    "name": "ipython",
    "version": 3
   },
   "file_extension": ".py",
   "mimetype": "text/x-python",
   "name": "python",
   "nbconvert_exporter": "python",
   "pygments_lexer": "ipython3",
   "version": "3.7.3"
  }
 },
 "nbformat": 4,
 "nbformat_minor": 2
}
