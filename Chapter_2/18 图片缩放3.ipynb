{
 "cells": [
  {
   "cell_type": "code",
   "execution_count": null,
   "metadata": {},
   "outputs": [],
   "source": [
    "'''\n",
    "Learning notes for \"Learning Computer Vision\"\n",
    "Created by Xiaoxiao\n",
    "2019.8.22\n",
    "'''\n",
    "# [[A1,A2,B1],[A3,A4,B2]] 2行3列 > 2*2 + 2*1\n",
    "# [[A1,A2],[A3,A4]] 2*2 A\n",
    "# [[B1],[B2]] 2*1 B\n",
    "# xy 2*1\n",
    "# A*C + B = [[A1*x + A2*y],[A3*x + A4*y]] + [[B1],[B2]]\n",
    "#令 x>0.5*x , y >0.5*y\n",
    "#则 令B1,B2 = 0,A1,A4 = 0.5 , A2,A3 = 0\n",
    "import cv2\n",
    "import numpy as np\n",
    "img = cv2.imread(\"1.jpg\",1)\n",
    "imgInfo = img.shape\n",
    "height = imgInfo[0]\n",
    "width = imgInfo[1]\n",
    "matScale = np.float32([[0.5,0,0],[0,0.5,0]])\n",
    "dst = cv2.warpAffine(img,matScale,(int(width/2),int(height/2)))\n",
    "# 1 src 2 变换矩阵 3 info\n",
    "cv2.imshow('dst',dst)\n",
    "cv2.waitKey(0)"
   ]
  }
 ],
 "metadata": {
  "kernelspec": {
   "display_name": "Python 3",
   "language": "python",
   "name": "python3"
  },
  "language_info": {
   "codemirror_mode": {
    "name": "ipython",
    "version": 3
   },
   "file_extension": ".py",
   "mimetype": "text/x-python",
   "name": "python",
   "nbconvert_exporter": "python",
   "pygments_lexer": "ipython3",
   "version": "3.7.3"
  }
 },
 "nbformat": 4,
 "nbformat_minor": 2
}
