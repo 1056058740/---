{
 "cells": [
  {
   "cell_type": "code",
   "execution_count": null,
   "metadata": {},
   "outputs": [],
   "source": [
    "'''\n",
    "Learning notes for \"Learning Computer Vision\"\n",
    "Created by Xiaoxiao\n",
    "2019.8.21\n",
    "'''\n",
    "import cv2\n",
    "import numpy as np\n",
    "img = cv2.imread('1.jpg',1)\n",
    "imgInfo = img.shape\n",
    "height = imgInfo[0]\n",
    "width = imgInfo[1]\n",
    "\n",
    "matShift = np.float32([[1,0,100],[0,1,200]])#2行3列矩阵\n",
    "dst = cv2.warpAffine(img,matShift,(height,width))\n",
    "# 1 src 2 变换矩阵 3 info\n",
    "cv2.imshow('dst',dst)\n",
    "cv2.waitKey(0)"
   ]
  },
  {
   "cell_type": "code",
   "execution_count": null,
   "metadata": {},
   "outputs": [],
   "source": [
    "# [[1,0,100],[0,1,200]] 2行3列 > 2*2 + 2*1\n",
    "# [[1,0],[0,1]] 2*2 A\n",
    "# [[100],[200]] 2*1 B\n",
    "# xy 2*1\n",
    "# A*C + B = [[1*x + 0*y],[0*x + 1*y]] + [[100],[200]]\n",
    "# =[[1*x + 100],[1*y + 200]]"
   ]
  }
 ],
 "metadata": {
  "kernelspec": {
   "display_name": "Python 3",
   "language": "python",
   "name": "python3"
  },
  "language_info": {
   "codemirror_mode": {
    "name": "ipython",
    "version": 3
   },
   "file_extension": ".py",
   "mimetype": "text/x-python",
   "name": "python",
   "nbconvert_exporter": "python",
   "pygments_lexer": "ipython3",
   "version": "3.7.3"
  }
 },
 "nbformat": 4,
 "nbformat_minor": 2
}
