{
 "cells": [
  {
   "cell_type": "code",
   "execution_count": null,
   "metadata": {},
   "outputs": [
    {
     "name": "stdout",
     "output_type": "stream",
     "text": [
      "(608, 1080, 3)\n"
     ]
    }
   ],
   "source": [
    "'''\n",
    "Learning notes for \"Learning Computer Vision\"\n",
    "Created by Xiaoxiao\n",
    "2019.8.20\n",
    "'''\n",
    "# 1 load 2 info(height,width) 3 resize 4 check\n",
    "import cv2\n",
    "img = cv2.imread('1.jpg',1)\n",
    "imgInfo = img.shape\n",
    "#高度 宽度 颜色组成方式\n",
    "print(imgInfo)\n",
    "height = imgInfo[0]\n",
    "width = imgInfo[1]\n",
    "model = imgInfo[2]\n",
    "# 1 放大 缩小 2 等比例(宽高同系数) 非等比例\n",
    "dstHeight = int(height*0.5)\n",
    "dstWidth = int(width*0.5)\n",
    "#双线性插值 \n",
    "# 缩放方法：最近邻域插值 双线性插值 像素关系重采样 立方插值\n",
    "dst = cv2.resize(img,(dstWidth,dstHeight))\n",
    "#resize(输入图片，（缩放后的宽，高）)\n",
    "cv2.imshow('image',dst)\n",
    "cv2.waitKey(0)"
   ]
  },
  {
   "cell_type": "code",
   "execution_count": null,
   "metadata": {},
   "outputs": [],
   "source": [
    "#目标图像的每一个点都来自于原图像\n",
    "#dst x -> src x newX\n",
    "#newX = x*(src 行/dst 行)\n",
    "#如果比例系数非整数，近似取整 -> 最近邻域插值\n",
    "\n",
    "#双线性插值：非近似取整，相邻像素点横纵坐标加权和取值"
   ]
  }
 ],
 "metadata": {
  "kernelspec": {
   "display_name": "Python 3",
   "language": "python",
   "name": "python3"
  },
  "language_info": {
   "codemirror_mode": {
    "name": "ipython",
    "version": 3
   },
   "file_extension": ".py",
   "mimetype": "text/x-python",
   "name": "python",
   "nbconvert_exporter": "python",
   "pygments_lexer": "ipython3",
   "version": "3.7.3"
  }
 },
 "nbformat": 4,
 "nbformat_minor": 2
}
