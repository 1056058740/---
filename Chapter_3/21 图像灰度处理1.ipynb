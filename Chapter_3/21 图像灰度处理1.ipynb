{
 "cells": [
  {
   "cell_type": "code",
   "execution_count": 1,
   "metadata": {},
   "outputs": [
    {
     "name": "stdout",
     "output_type": "stream",
     "text": [
      "(608, 1080)\n"
     ]
    }
   ],
   "source": [
    "'''\n",
    "Learning notes for \"Learning Computer Vision\"\n",
    "Created by Xiaoxiao\n",
    "2019.8.25\n",
    "'''\n",
    "# 方法1 imread 第二个参数设为0\n",
    "import cv2\n",
    "img = cv2.imread(\"1.jpg\",0)\n",
    "print(img.shape)\n",
    "# 打印出宽高信息，一维图像\n",
    "cv2.imshow(\"img\",img)\n",
    "cv2.waitKey(0)"
   ]
  },
  {
   "cell_type": "code",
   "execution_count": null,
   "metadata": {},
   "outputs": [
    {
     "name": "stdout",
     "output_type": "stream",
     "text": [
      "(608, 1080)\n"
     ]
    }
   ],
   "source": [
    "#方法2 cvtColor\n",
    "import cv2\n",
    "img = cv2.imread(\"1.jpg\",1)\n",
    "dst = cv2.cvtColor(img,cv2.COLOR_BGR2GRAY)\n",
    "# cvColor:颜色空间转换 1 传入图片信息 2 转换方式\n",
    "print(dst.shape)\n",
    "cv2.imshow(\"dst\",dst)\n",
    "cv2.waitKey(0)"
   ]
  }
 ],
 "metadata": {
  "kernelspec": {
   "display_name": "Python 3",
   "language": "python",
   "name": "python3"
  },
  "language_info": {
   "codemirror_mode": {
    "name": "ipython",
    "version": 3
   },
   "file_extension": ".py",
   "mimetype": "text/x-python",
   "name": "python",
   "nbconvert_exporter": "python",
   "pygments_lexer": "ipython3",
   "version": "3.7.3"
  }
 },
 "nbformat": 4,
 "nbformat_minor": 2
}
