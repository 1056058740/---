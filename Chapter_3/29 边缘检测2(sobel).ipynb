{
 "cells": [
  {
   "cell_type": "code",
   "execution_count": null,
   "metadata": {},
   "outputs": [],
   "source": [
    "'''\n",
    "Learning notes for \"Learning Computer Vision\"\n",
    "Created by Xiaoxiao\n",
    "2019.8.28\n",
    "'''\n",
    "#sobel 1 算法模板 2 图片模板 3 阈值判决\n",
    "import cv2\n",
    "import numpy as np\n",
    "img = cv2.imread('2.jpg',1)\n",
    "imgInfo = img.shape\n",
    "height = imgInfo[0]\n",
    "width = imgInfo[1]\n",
    "# 算法模板：水平/竖直\n",
    "# [-1,0,1\n",
    "#  -2,0,2\n",
    "#  -1,0,1] 水平边缘检测\n",
    "# [1,2,-1\n",
    "#  0,0,0\n",
    "# -1,-2,-1] 竖直边缘检测\n",
    "\n",
    "# 卷积：对应元素相乘\n",
    "\n",
    "# 计算梯度值：f = sqrt(a*a + b*b) a,b:卷积后结果\n",
    "gray = cv2.cvtColor(img,cv2.COLOR_BGR2GRAY)\n",
    "dst = np.zeros((height,width,1),np.uint8)\n",
    "for i in range(0,height-2):\n",
    "    for j in range(0,width-2):\n",
    "        # -2:算法模板为3*3矩阵，防止溢出\n",
    "        gy = gray[i,j]*1 + gray[i,j+1]*2 + gray[i,j+2]*1 \\\n",
    "        - gray[i+2,j]*1 - gray[i+2,j+1]*2 - gray[i+2,j+2]*1\n",
    "        gx = -gray[i,j]*1 + gray[i,j+2]*1 -gray[i+1,j]*2 \\\n",
    "        + gray[i+1,j+2]*2 - gray[i+2,j]*1 -gray[i+2,j+2]*1\n",
    "        grad = np.sqrt(gx*gx + gy*gy)\n",
    "        if grad>50:\n",
    "            # 梯度设为50\n",
    "            dst[i,j] = 255\n",
    "        else:\n",
    "            dst[i,j] = 0\n",
    "cv2.imshow('dst',dst)\n",
    "cv2.waitKey(0)"
   ]
  }
 ],
 "metadata": {
  "kernelspec": {
   "display_name": "Python 3",
   "language": "python",
   "name": "python3"
  },
  "language_info": {
   "codemirror_mode": {
    "name": "ipython",
    "version": 3
   },
   "file_extension": ".py",
   "mimetype": "text/x-python",
   "name": "python",
   "nbconvert_exporter": "python",
   "pygments_lexer": "ipython3",
   "version": "3.7.3"
  }
 },
 "nbformat": 4,
 "nbformat_minor": 2
}
