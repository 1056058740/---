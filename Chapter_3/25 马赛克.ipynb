{
 "cells": [
  {
   "cell_type": "code",
   "execution_count": null,
   "metadata": {},
   "outputs": [],
   "source": [
    "'''\n",
    "Learning notes for \"Learning Computer Vision\"\n",
    "Created by Xiaoxiao\n",
    "2019.8.27\n",
    "'''\n",
    "import cv2\n",
    "img = cv2.imread('1.jpg',1)\n",
    "for m in range(100,300):\n",
    "    for n in range(100,200):\n",
    "        # pixel ->10*10\n",
    "        if m%10 == 0 and n%10 == 0:\n",
    "            for i in range(0,10):\n",
    "                for j in range(0,10):\n",
    "                    (b,g,r) = img[m,n]\n",
    "                    img[i+m,j+n] = (b,g,r)\n",
    "cv2.imshow('dst',img)\n",
    "cv2.waitKey(0)"
   ]
  }
 ],
 "metadata": {
  "kernelspec": {
   "display_name": "Python 3",
   "language": "python",
   "name": "python3"
  },
  "language_info": {
   "codemirror_mode": {
    "name": "ipython",
    "version": 3
   },
   "file_extension": ".py",
   "mimetype": "text/x-python",
   "name": "python",
   "nbconvert_exporter": "python",
   "pygments_lexer": "ipython3",
   "version": "3.7.3"
  }
 },
 "nbformat": 4,
 "nbformat_minor": 2
}
