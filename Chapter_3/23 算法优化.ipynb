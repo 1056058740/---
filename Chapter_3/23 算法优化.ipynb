{
 "cells": [
  {
   "cell_type": "code",
   "execution_count": null,
   "metadata": {},
   "outputs": [],
   "source": [
    "'''\n",
    "Learning notes for \"Learning Computer Vision\"\n",
    "Created by Xiaoxiao\n",
    "2019.8.26\n",
    "'''\n",
    "# 定点 > 浮点  + - * / >>\n",
    "# 优化 r*0.299 + g*0.527 + b*0.114\n",
    "import cv2\n",
    "import numpy as np\n",
    "img = cv2.imread(\"1.jpg\")\n",
    "imgInfo = img.shape\n",
    "height = imgInfo[0]\n",
    "width = imgInfo[1]\n",
    "# RGB > Gray B = G = R  (R+G+B)/3\n",
    "dst = np.zeros((height,width,3),np.uint8)\n",
    "for i in range(0,height):\n",
    "    for j in range(0,width):\n",
    "        (b,g,r) = img[i,j]\n",
    "        b = int(b)\n",
    "        g = int(g)\n",
    "        r = int(r)\n",
    "        gray = r*0.299 + g*0.527 + b*0.114\n",
    "        \n",
    "        # 优化1：\n",
    "        gray = (r*1 + g*2 + b*1)/4\n",
    "        # 浮点运算转为顶点运算\n",
    "        # 0.299 + 0.527 + 0.114 = 1\n",
    "        \n",
    "        #优化2： \n",
    "        # gray = (r + (g<<1) + b) >>2\n",
    "        # +-*/转为移位(<</>>)运算\n",
    "        \n",
    "        dst[i,j] = np.uint8(gray)\n",
    "cv2.imshow('dst',dst)\n",
    "cv2.waitKey(0)"
   ]
  }
 ],
 "metadata": {
  "kernelspec": {
   "display_name": "Python 3",
   "language": "python",
   "name": "python3"
  },
  "language_info": {
   "codemirror_mode": {
    "name": "ipython",
    "version": 3
   },
   "file_extension": ".py",
   "mimetype": "text/x-python",
   "name": "python",
   "nbconvert_exporter": "python",
   "pygments_lexer": "ipython3",
   "version": "3.7.3"
  }
 },
 "nbformat": 4,
 "nbformat_minor": 2
}
