{
 "cells": [
  {
   "cell_type": "code",
   "execution_count": null,
   "metadata": {},
   "outputs": [],
   "source": [
    "'''\n",
    "Learning notes for \"Learning Computer Vision\"\n",
    "Created by Xiaoxiao\n",
    "2019.8.30\n",
    "'''\n",
    "import cv2\n",
    "import numpy as np\n",
    "newImgInfo = (500,500,3)\n",
    "dst = np.zeros(newImgInfo,np.uint8)\n",
    "# line\n",
    "cv2.line(dst,(100,100),(400,400),(0,0,255))\n",
    "# 1 dst 2 start 3 end 4 color \n",
    "# 5 linewidth\n",
    "cv2.line(dst,(100,200),(400,200),(0,255,255),20) # 黄色\n",
    "# 6 linetype 圆角光滑:LINE_AA\n",
    "cv2.line(dst,(100,300),(400,300),(0,255,0),20,cv2.LINE_AA)\n",
    "# 绘制三角形\n",
    "cv2.line(dst,(200,150),(50,250),(25,100,255))\n",
    "cv2.line(dst,(50,250),(400,380),(25,100,255))\n",
    "cv2.line(dst,(400,380),(200,150),(25,100,255))\n",
    "cv2.imshow('dst',dst)\n",
    "cv2.waitKey(0)"
   ]
  }
 ],
 "metadata": {
  "kernelspec": {
   "display_name": "Python 3",
   "language": "python",
   "name": "python3"
  },
  "language_info": {
   "codemirror_mode": {
    "name": "ipython",
    "version": 3
   },
   "file_extension": ".py",
   "mimetype": "text/x-python",
   "name": "python",
   "nbconvert_exporter": "python",
   "pygments_lexer": "ipython3",
   "version": "3.7.3"
  }
 },
 "nbformat": 4,
 "nbformat_minor": 2
}
