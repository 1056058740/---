{
 "cells": [
  {
   "cell_type": "code",
   "execution_count": null,
   "metadata": {},
   "outputs": [],
   "source": [
    "'''\n",
    "Learning notes for \"Learning Computer Vision\"\n",
    "Created by Xiaoxiao\n",
    "2019.8.29\n",
    "'''\n",
    "import cv2\n",
    "import numpy as np\n",
    "img = cv2.imread('1.jpg',1)\n",
    "imgInfo = img.shape\n",
    "height = imgInfo[0]\n",
    "width = imgInfo[1]\n",
    "# 1 灰度 2 划分方块 3 划分灰度等级 \n",
    "# 4 统计基本区域内各像素的对应的等级，等级频率最高的等级及其频数，\n",
    "# 计算区域内属于此最高频率等级像素的彩色像素值的均值\n",
    "gray = cv2.cvtColor(img,cv2.COLOR_BGR2GRAY)\n",
    "dst = np.zeros((height,width,3),np.uint8)\n",
    "for i in range(4,height-4):\n",
    "    for j in range(4,width-4):\n",
    "        array1 = np.zeros(8,np.uint8)\n",
    "        #返回一个用0填充的数组（一行），存放各个灰度等级的个数\n",
    "        for m in range(-4,4):\n",
    "            for n in range(-4,4):\n",
    "                # 灰度等级划分8个段，每段32个像素值\n",
    "                p1 = int(gray[i+m,j+n]/32) #判断像素等级\n",
    "                # p1 = int(gray[i+m,j+n]>>5)\n",
    "                array1[p1] = array1[p1] + 1 #累加，计算对应灰度等级个数\n",
    "        # 获取array1中像素值最多的一段\n",
    "        currentMax = array1[0]\n",
    "        l = 0\n",
    "        for k in range(0,8):\n",
    "            if currentMax < array1[k]:\n",
    "                currentMax = array1[k]\n",
    "                l = k\n",
    "                # 找出最高频灰度等级及其索引\n",
    "        # 写入目标像素\n",
    "        for m in range(-4,4):\n",
    "            for n in range(-4,4):\n",
    "                if gray[i+m,j+n] >= l*32 and gray[i+m,j+n] <= (l+1)*32:\n",
    "                    (b,g,r) = img[i+m,j+n]                   \n",
    "        dst[i,j] = (b,g,r)\n",
    "cv2.imshow('dst',dst)\n",
    "cv2.waitKey(0)                "
   ]
  }
 ],
 "metadata": {
  "kernelspec": {
   "display_name": "Python 3",
   "language": "python",
   "name": "python3"
  },
  "language_info": {
   "codemirror_mode": {
    "name": "ipython",
    "version": 3
   },
   "file_extension": ".py",
   "mimetype": "text/x-python",
   "name": "python",
   "nbconvert_exporter": "python",
   "pygments_lexer": "ipython3",
   "version": "3.7.3"
  }
 },
 "nbformat": 4,
 "nbformat_minor": 2
}
